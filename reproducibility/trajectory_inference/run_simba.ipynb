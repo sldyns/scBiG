{
 "cells": [
  {
   "cell_type": "code",
   "execution_count": 1,
   "id": "b0bb92b2-e2fd-4657-b82e-a8220d5d5d8b",
   "metadata": {},
   "outputs": [
    {
     "name": "stderr",
     "output_type": "stream",
     "text": [
      "Using backend: pytorch\n"
     ]
    }
   ],
   "source": [
    "import numpy as np\n",
    "import scanpy as sc\n",
    "import h5py\n",
    "import os\n",
    "from scbig.utils import setup_seed,louvain,calculate_metric\n",
    "import warnings\n",
    "warnings.filterwarnings('ignore')\n",
    "import simba as si\n",
    "import shutil"
   ]
  },
  {
   "cell_type": "code",
   "execution_count": 2,
   "id": "8d1d0375-1068-4511-aea9-6357e53f05cf",
   "metadata": {},
   "outputs": [],
   "source": [
    "#shutil.rmtree('result_simba_rnaseq')  "
   ]
  },
  {
   "cell_type": "code",
   "execution_count": 3,
   "id": "612c45b6-f17a-4000-8bdd-56a5c5b76daf",
   "metadata": {},
   "outputs": [
    {
     "name": "stdout",
     "output_type": "stream",
     "text": [
      "Saving results in: result_simba_rnaseq\n"
     ]
    }
   ],
   "source": [
    "workdir = 'result_simba_rnaseq'\n",
    "si.settings.set_workdir(workdir)\n",
    "si.settings.set_figure_params(dpi=80,style='white',fig_size=[5,5],rc={'image.cmap': 'viridis'})"
   ]
  },
  {
   "cell_type": "code",
   "execution_count": 4,
   "id": "53ac75b1-db5f-471b-8c55-9a4c0b1a66db",
   "metadata": {},
   "outputs": [],
   "source": [
    "setup_seed(0)"
   ]
  },
  {
   "cell_type": "code",
   "execution_count": 5,
   "id": "d153b6c2-614d-43fa-89b5-2f7bdf528864",
   "metadata": {},
   "outputs": [
    {
     "name": "stdout",
     "output_type": "stream",
     "text": [
      "AnnData object with n_obs × n_vars = 90 × 20214\n",
      "    obs: 'cl_type'\n"
     ]
    }
   ],
   "source": [
    "dataset = 'YAN'\n",
    "#dataset = 'Deng'\n",
    "#dataset = 'DPT'\n",
    "method = 'SIMBA'\n",
    "dir0 = '../'\n",
    "dir1 = '{}'.format(dataset)\n",
    "\n",
    "with h5py.File(os.path.join(dir0, 'datasets/trajectory/{}.h5'.format(dataset))) as data_mat:\n",
    "    X = np.array(data_mat['X'])\n",
    "    Y = np.array(data_mat['Y'])\n",
    "    X = np.ceil(X).astype(np.int_)\n",
    "    Y = np.array(Y).astype(np.int_).squeeze()\n",
    "\n",
    "adata = sc.AnnData(X)\n",
    "adata.obs['cl_type'] = Y\n",
    "n_clusters = len(np.unique(Y))\n",
    "print(adata)"
   ]
  },
  {
   "cell_type": "code",
   "execution_count": 6,
   "id": "586a360d-a215-4b85-a286-8193d41a9d3a",
   "metadata": {},
   "outputs": [
    {
     "name": "stdout",
     "output_type": "stream",
     "text": [
      "Before filtering: \n",
      "90 cells, 20214 genes\n",
      "Filter genes based on min_n_cells\n",
      "After filtering out low-expressed genes: \n",
      "90 cells, 18042 genes\n",
      "before filtering: \n",
      "90 cells,  18042 genes\n",
      "filter cells based on min_n_genes\n",
      "after filtering out low-quality cells: \n",
      "90 cells,  18042 genes\n",
      "AnnData object with n_obs × n_vars = 90 × 18042\n",
      "    obs: 'cl_type', 'n_counts', 'n_genes', 'pct_genes'\n",
      "    var: 'n_counts', 'n_cells', 'pct_cells'\n",
      "    layers: 'raw'\n"
     ]
    }
   ],
   "source": [
    "si.pp.filter_genes(adata, min_n_cells=3)\n",
    "si.pp.filter_cells_rna(adata, min_n_genes=100)\n",
    "si.pp.normalize(adata, method='lib_size')\n",
    "si.pp.log_transform(adata)\n",
    "print(adata)"
   ]
  },
  {
   "cell_type": "code",
   "execution_count": 7,
   "id": "3db37961-18cf-4c4d-8571-099fadb8df3f",
   "metadata": {},
   "outputs": [
    {
     "name": "stdout",
     "output_type": "stream",
     "text": [
      "relation0: source: C, destination: G\n",
      "#edges: 760341\n",
      "relation1: source: C, destination: G\n",
      "#edges: 151390\n",
      "relation2: source: C, destination: G\n",
      "#edges: 51339\n",
      "relation3: source: C, destination: G\n",
      "#edges: 17861\n",
      "relation4: source: C, destination: G\n",
      "#edges: 7420\n",
      "Total number of edges: 988351\n",
      "Writing graph file \"pbg_graph.txt\" to \"result_simba_rnaseq\\pbg\\graph0\" ...\n",
      "Finished.\n"
     ]
    }
   ],
   "source": [
    "si.tl.discretize(adata, n_bins=5)\n",
    "si.tl.gen_graph(list_CG=[adata],use_highly_variable=False,dirname='graph0')"
   ]
  },
  {
   "cell_type": "code",
   "execution_count": 8,
   "id": "9ca8d0f3-e3c6-4df2-8a30-bff31d3b4e45",
   "metadata": {},
   "outputs": [
    {
     "name": "stdout",
     "output_type": "stream",
     "text": [
      "Auto-estimated weight decay is 0.035853\n",
      "`.settings.pbg_params['wd']` has been updated to 0.035853\n",
      "Converting input data ...\n",
      "[2023-08-20 14:01:13.950062] Using the 5 relation types given in the config\n",
      "[2023-08-20 14:01:13.950062] Searching for the entities in the edge files...\n",
      "[2023-08-20 14:01:15.162338] Entity type C:\n",
      "[2023-08-20 14:01:15.163338] - Found 90 entities\n",
      "[2023-08-20 14:01:15.163338] - Removing the ones with fewer than 1 occurrences...\n",
      "[2023-08-20 14:01:15.164338] - Left with 90 entities\n",
      "[2023-08-20 14:01:15.164338] - Shuffling them...\n",
      "[2023-08-20 14:01:15.164338] Entity type G:\n",
      "[2023-08-20 14:01:15.165338] - Found 18042 entities\n",
      "[2023-08-20 14:01:15.165338] - Removing the ones with fewer than 1 occurrences...\n",
      "[2023-08-20 14:01:15.168340] - Left with 18042 entities\n",
      "[2023-08-20 14:01:15.168340] - Shuffling them...\n",
      "[2023-08-20 14:01:15.176341] Preparing counts and dictionaries for entities and relation types:\n",
      "[2023-08-20 14:01:15.177341] - Writing count of entity type C and partition 0\n",
      "[2023-08-20 14:01:15.178342] - Writing count of entity type G and partition 0\n",
      "[2023-08-20 14:01:15.190344] Preparing edge path result_simba_rnaseq\\pbg\\graph0\\input/edge, out of the edges found in result_simba_rnaseq\\pbg\\graph0\\pbg_graph.txt\n",
      "using fast version\n",
      "[2023-08-20 14:01:15.190344] Taking the fast train!\n",
      "[2023-08-20 14:01:15.655453] - Processed 100000 edges so far...\n",
      "[2023-08-20 14:01:16.129474] - Processed 200000 edges so far...\n",
      "[2023-08-20 14:01:16.599583] - Processed 300000 edges so far...\n",
      "[2023-08-20 14:01:17.097696] - Processed 400000 edges so far...\n",
      "[2023-08-20 14:01:17.602809] - Processed 500000 edges so far...\n",
      "[2023-08-20 14:01:18.089919] - Processed 600000 edges so far...\n",
      "[2023-08-20 14:01:18.556042] - Processed 700000 edges so far...\n",
      "[2023-08-20 14:01:19.036139] - Processed 800000 edges so far...\n",
      "[2023-08-20 14:01:19.504244] - Processed 900000 edges so far...\n",
      "[2023-08-20 14:01:21.409181] - Processed 988351 edges in total\n",
      "Starting training ...\n",
      "Finished\n"
     ]
    }
   ],
   "source": [
    "dict_config = si.settings.pbg_params.copy()\n",
    "dict_config['dimension'] = 64\n",
    "si.tl.pbg_train(pbg_params=dict_config, auto_wd=True, save_wd=True, output='model')"
   ]
  },
  {
   "cell_type": "code",
   "execution_count": 9,
   "id": "a84448d5-df64-48da-9a14-e71a8711109e",
   "metadata": {},
   "outputs": [
    {
     "name": "stdout",
     "output_type": "stream",
     "text": [
      "{'C': AnnData object with n_obs × n_vars = 90 × 64, 'G': AnnData object with n_obs × n_vars = 18042 × 64}\n"
     ]
    }
   ],
   "source": [
    "dict_adata = si.read_embedding()\n",
    "print(dict_adata)"
   ]
  },
  {
   "cell_type": "code",
   "execution_count": 10,
   "id": "1bd6e50f-1a9d-4dad-8658-c38e0b8fa13d",
   "metadata": {},
   "outputs": [
    {
     "data": {
      "text/plain": [
       "(90, 64)"
      ]
     },
     "execution_count": 10,
     "metadata": {},
     "output_type": "execute_result"
    }
   ],
   "source": [
    "adata_C = dict_adata['C']\n",
    "adata_C.obs_names = adata_C.obs_names.astype('str')\n",
    "adata.obsm['feat'] = np.array(adata_C[adata.obs_names,:].X)\n",
    "adata.obsm['feat'].shape"
   ]
  },
  {
   "cell_type": "code",
   "execution_count": 11,
   "id": "060c5aeb-2846-47ad-b523-13fba800fb63",
   "metadata": {},
   "outputs": [
    {
     "name": "stdout",
     "output_type": "stream",
     "text": [
      "Clustering Louvain: NMI= 0.8322, ARI= 0.8057\n"
     ]
    }
   ],
   "source": [
    " # louvain\n",
    "adata = louvain(adata, resolution=1, use_rep='feat')\n",
    "y_pred_l = np.array(adata.obs['louvain'])\n",
    "n_pred = len(np.unique(y_pred_l))\n",
    "nmi_l, ari_l = np.round(calculate_metric(Y, y_pred_l), 4)\n",
    "print('Clustering Louvain: NMI= %.4f, ARI= %.4f' % (nmi_l, ari_l))"
   ]
  },
  {
   "cell_type": "code",
   "execution_count": 12,
   "id": "5f87398c-7fb4-4f57-bbd8-7782926cf6c5",
   "metadata": {},
   "outputs": [
    {
     "name": "stdout",
     "output_type": "stream",
     "text": [
      "AnnData object with n_obs × n_vars = 90 × 18042\n",
      "    obs: 'cl_type', 'n_counts', 'n_genes', 'pct_genes', 'pbg_id', 'louvain'\n",
      "    var: 'n_counts', 'n_cells', 'pct_cells', 'pbg_id'\n",
      "    uns: 'disc', 'neighbors', 'louvain', 'umap'\n",
      "    obsm: 'feat', 'X_umap'\n",
      "    layers: 'raw', 'disc'\n",
      "    obsp: 'distances', 'connectivities'\n"
     ]
    }
   ],
   "source": [
    "sc.tl.umap(adata)\n",
    "print(adata)\n",
    "\n",
    "np.savez(os.path.join(dir0, \"results/trajectory_inference/{}/{}_{}.npz\".format(dataset, dataset, method)),\n",
    "         true=Y,\n",
    "         umap=adata.obsm['X_umap'],\n",
    "         latent=adata.obsm['feat'],\n",
    "         data=np.array(adata.X.todense()),\n",
    "         louvain=np.array(adata.obs['louvain'].values.astype(int)))"
   ]
  },
  {
   "cell_type": "code",
   "execution_count": null,
   "id": "fa9c3b21-2fcd-409c-a083-7e7e9b8643a7",
   "metadata": {},
   "outputs": [],
   "source": []
  }
 ],
 "metadata": {
  "kernelspec": {
   "display_name": "Python 3",
   "language": "python",
   "name": "python3"
  },
  "language_info": {
   "codemirror_mode": {
    "name": "ipython",
    "version": 3
   },
   "file_extension": ".py",
   "mimetype": "text/x-python",
   "name": "python",
   "nbconvert_exporter": "python",
   "pygments_lexer": "ipython3",
   "version": "3.8.8"
  }
 },
 "nbformat": 4,
 "nbformat_minor": 5
}