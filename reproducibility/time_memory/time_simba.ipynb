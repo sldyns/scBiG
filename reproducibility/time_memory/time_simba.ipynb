{
 "cells": [
  {
   "cell_type": "code",
   "execution_count": 1,
   "id": "1b9d73f2-837a-46a0-aec2-5783be8cd6ac",
   "metadata": {},
   "outputs": [
    {
     "name": "stderr",
     "output_type": "stream",
     "text": [
      "Using backend: pytorch\n"
     ]
    }
   ],
   "source": [
    "import numpy as np\n",
    "import scanpy as sc\n",
    "import h5py\n",
    "import os\n",
    "from scbig.utils import setup_seed\n",
    "import warnings\n",
    "warnings.filterwarnings('ignore')\n",
    "import simba as si\n",
    "from simba.tools._pbg import pbg_train\n",
    "import shutil\n",
    "import time\n",
    "from memory_profiler import profile"
   ]
  },
  {
   "cell_type": "code",
   "execution_count": 2,
   "id": "5f2f0860-e423-4bba-9a0c-f6f9d8a57f0e",
   "metadata": {},
   "outputs": [
    {
     "name": "stdout",
     "output_type": "stream",
     "text": [
      "Saving results in: result_simba\n"
     ]
    }
   ],
   "source": [
    "#shutil.rmtree('result_simba') \n",
    "workdir = 'result_simba'\n",
    "si.settings.set_workdir(workdir)\n",
    "si.settings.set_figure_params(dpi=80,style='white',fig_size=[5,5],rc={'image.cmap': 'viridis'})"
   ]
  },
  {
   "cell_type": "code",
   "execution_count": 3,
   "id": "0cab308d-82eb-4200-9ba8-16031e977c4b",
   "metadata": {},
   "outputs": [],
   "source": [
    "@profile\n",
    "def run_simba():\n",
    "    from memory_profiler import memory_usage\n",
    "    pbg_train(auto_wd=True, save_wd=False, output='model')\n",
    "    mem_used = memory_usage(-1, interval=.1, timeout=1)\n",
    "    print(max(mem_used))\n",
    "    return max(mem_used)"
   ]
  },
  {
   "cell_type": "code",
   "execution_count": 4,
   "id": "21806b4a-5606-492a-bded-47e39995b8ce",
   "metadata": {},
   "outputs": [
    {
     "name": "stdout",
     "output_type": "stream",
     "text": [
      "----------------real data: 2000 ----------------- \n",
      "Before filtering: \n",
      "2000 cells, 10000 genes\n",
      "Filter genes based on min_n_cells\n",
      "After filtering out low-expressed genes: \n",
      "2000 cells, 9244 genes\n",
      "before filtering: \n",
      "2000 cells,  9244 genes\n",
      "filter cells based on min_n_genes\n",
      "after filtering out low-quality cells: \n",
      "2000 cells,  9244 genes\n",
      "AnnData object with n_obs × n_vars = 2000 × 9244\n",
      "    obs: 'cl_type', 'n_counts', 'n_genes', 'pct_genes'\n",
      "    var: 'n_counts', 'n_cells', 'pct_cells'\n",
      "    layers: 'raw'\n",
      "relation0: source: C, destination: G\n",
      "#edges: 441649\n",
      "relation1: source: C, destination: G\n",
      "#edges: 460077\n",
      "relation2: source: C, destination: G\n",
      "#edges: 273163\n",
      "relation3: source: C, destination: G\n",
      "#edges: 271925\n",
      "relation4: source: C, destination: G\n",
      "#edges: 189004\n",
      "Total number of edges: 1635818\n",
      "Writing graph file \"pbg_graph.txt\" to \"result_simba\\pbg\\graph0\" ...\n",
      "Finished.\n",
      "ERROR: Could not find file <ipython-input-3-ce685a63275c>\n",
      "NOTE: %mprun can only be used on functions defined in physical files, and not in the IPython environment.\n",
      "Auto-estimated weight decay is 0.021662\n",
      "Converting input data ...\n",
      "[2023-08-24 15:32:06.442905] Using the 5 relation types given in the config\n",
      "[2023-08-24 15:32:06.443905] Searching for the entities in the edge files...\n",
      "[2023-08-24 15:32:29.437629] Entity type C:\n",
      "[2023-08-24 15:32:29.438630] - Found 2000 entities\n",
      "[2023-08-24 15:32:29.439631] - Removing the ones with fewer than 1 occurrences...\n",
      "[2023-08-24 15:32:29.440631] - Left with 2000 entities\n",
      "[2023-08-24 15:32:29.441631] - Shuffling them...\n",
      "[2023-08-24 15:32:29.453633] Entity type G:\n",
      "[2023-08-24 15:32:29.454634] - Found 9244 entities\n",
      "[2023-08-24 15:32:29.454634] - Removing the ones with fewer than 1 occurrences...\n",
      "[2023-08-24 15:32:29.459635] - Left with 9244 entities\n",
      "[2023-08-24 15:32:29.460635] - Shuffling them...\n",
      "[2023-08-24 15:32:29.513647] Preparing counts and dictionaries for entities and relation types:\n",
      "[2023-08-24 15:32:29.515647] - Writing count of entity type C and partition 0\n",
      "[2023-08-24 15:32:29.537652] - Writing count of entity type G and partition 0\n",
      "[2023-08-24 15:32:29.630673] Preparing edge path result_simba\\pbg\\graph0\\input/edge, out of the edges found in result_simba\\pbg\\graph0\\pbg_graph.txt\n",
      "using fast version\n",
      "[2023-08-24 15:32:29.631673] Taking the fast train!\n",
      "[2023-08-24 15:32:34.695887] - Processed 100000 edges so far...\n",
      "[2023-08-24 15:32:39.690003] - Processed 200000 edges so far...\n",
      "[2023-08-24 15:32:44.682621] - Processed 300000 edges so far...\n",
      "[2023-08-24 15:32:49.691741] - Processed 400000 edges so far...\n",
      "[2023-08-24 15:32:54.750761] - Processed 500000 edges so far...\n",
      "[2023-08-24 15:32:59.797050] - Processed 600000 edges so far...\n",
      "[2023-08-24 15:33:04.756522] - Processed 700000 edges so far...\n",
      "[2023-08-24 15:33:09.723711] - Processed 800000 edges so far...\n",
      "[2023-08-24 15:33:14.755970] - Processed 900000 edges so far...\n",
      "[2023-08-24 15:33:19.777094] - Processed 1000000 edges so far...\n",
      "[2023-08-24 15:33:24.896237] - Processed 1100000 edges so far...\n",
      "[2023-08-24 15:33:30.043927] - Processed 1200000 edges so far...\n",
      "[2023-08-24 15:33:35.107491] - Processed 1300000 edges so far...\n",
      "[2023-08-24 15:33:40.088071] - Processed 1400000 edges so far...\n",
      "[2023-08-24 15:33:45.083770] - Processed 1500000 edges so far...\n",
      "[2023-08-24 15:33:50.114894] - Processed 1600000 edges so far...\n",
      "[2023-08-24 15:33:54.066631] - Processed 1635818 edges in total\n",
      "Starting training ...\n",
      "Finished\n",
      "638.8515625\n",
      "Run Done. Total Running Time: 162.73535060882568 seconds\n"
     ]
    }
   ],
   "source": [
    "for dataset in ['2000','4000','8000','16000','32000','64000']:\n",
    "    print('----------------real data: {} ----------------- '.format(dataset))\n",
    "    setup_seed(0)\n",
    "    method = 'SIMBA'\n",
    "    dir0 = '../'\n",
    "    dir1 = '{}'.format(dataset)\n",
    "\n",
    "    with h5py.File(os.path.join(dir0, 'datasets/time/data_cell{}.h5'.format(dataset))) as data_mat:\n",
    "        X = np.array(data_mat['X'])\n",
    "        Y = np.array(data_mat['Y'])\n",
    "        X = np.ceil(X).astype(np.int_)\n",
    "        Y = np.array(Y).astype(np.int_).squeeze()\n",
    "\n",
    "    adata = sc.AnnData(X.astype('float'))\n",
    "    adata.obs['cl_type'] = Y\n",
    "    n_clusters = len(np.unique(Y))\n",
    "    si.pp.filter_genes(adata, min_n_cells=3)\n",
    "    si.pp.filter_cells_rna(adata, min_n_genes=100)\n",
    "    si.pp.normalize(adata, method='lib_size')\n",
    "    si.pp.log_transform(adata)\n",
    "    print(adata)\n",
    "    si.tl.discretize(adata, n_bins=5)\n",
    "    si.tl.gen_graph(list_CG=[adata],use_highly_variable=False,dirname='graph0')\n",
    "\n",
    "    start_time = time.time()\n",
    "    #train\n",
    "    memory_usage=run_simba()\n",
    "    end_time = time.time()\n",
    "    total_time = end_time - start_time\n",
    "    print(\"Run Done. Total Running Time: %s seconds\" %(total_time))\n",
    "\n",
    "    np.savez(os.path.join(dir0, \"results/time_memory/{}/record_cell{}_{}.npz\".format(dataset, dataset, method)),\n",
    "             time=total_time, memory_usage=memory_usage)"
   ]
  },
  {
   "cell_type": "code",
   "execution_count": null,
   "id": "581228a8-efa5-4d81-a28f-417e24d6482f",
   "metadata": {},
   "outputs": [],
   "source": []
  },
  {
   "cell_type": "code",
   "execution_count": null,
   "id": "339b0b6e-308c-4cd6-86df-d6c718be4d8a",
   "metadata": {},
   "outputs": [],
   "source": []
  },
  {
   "cell_type": "code",
   "execution_count": null,
   "id": "4e90e41d-4ff4-44ea-8dc7-1ad2646465e9",
   "metadata": {},
   "outputs": [],
   "source": []
  }
 ],
 "metadata": {
  "kernelspec": {
   "display_name": "Python 3",
   "language": "python",
   "name": "python3"
  },
  "language_info": {
   "codemirror_mode": {
    "name": "ipython",
    "version": 3
   },
   "file_extension": ".py",
   "mimetype": "text/x-python",
   "name": "python",
   "nbconvert_exporter": "python",
   "pygments_lexer": "ipython3",
   "version": "3.8.8"
  }
 },
 "nbformat": 4,
 "nbformat_minor": 5
}