{
 "cells": [
  {
   "cell_type": "code",
   "execution_count": null,
   "id": "d4d3c997-f5de-4e3c-9b36-1a6707e8a515",
   "metadata": {},
   "outputs": [],
   "source": [
    "import numpy as np\n",
    "import scanpy as sc\n",
    "import h5py\n",
    "import os\n",
    "from scbig.utils import read_data, setup_seed, louvain, calculate_metric, sample\n",
    "import warnings\n",
    "warnings.filterwarnings('ignore')\n",
    "import simba as si\n",
    "import shutil"
   ]
  },
  {
   "cell_type": "code",
   "execution_count": null,
   "id": "58fc5c71-41d9-46c1-926a-eef049a70f13",
   "metadata": {},
   "outputs": [],
   "source": [
    "#shutil.rmtree('result_simba_rnaseq')  \n",
    "workdir = 'result_simba_rnaseq'\n",
    "si.settings.set_workdir(workdir)\n",
    "si.settings.set_figure_params(dpi=80,style='white',fig_size=[5,5],rc={'image.cmap': 'viridis'})"
   ]
  },
  {
   "cell_type": "code",
   "execution_count": null,
   "id": "d17b8f05-8d27-40ea-a42b-2ce3da905549",
   "metadata": {},
   "outputs": [],
   "source": [
    "for dataset in ['10X_PBMC','mouse_bladder_cell','mouse_ES_cell','human_kidney_counts','Adam','Human_pancreatic_islets','Macosko_mouse_retina']:\n",
    "    print('----------------real data: {} ----------------- '.format(dataset))\n",
    "    setup_seed(0)\n",
    "    method = 'SIMBA'\n",
    "    dir0 = '../'\n",
    "    dir1 = '{}'.format(dataset)\n",
    "\n",
    "    if dataset in ['Adam']:\n",
    "        mat, obs, var, uns = read_data(os.path.join(dir0, 'datasets/real/{}.h5'.format(dataset)), sparsify=False,\n",
    "                                       skip_exprs=False)\n",
    "        X0 = np.array(mat.toarray())\n",
    "        cell_name = np.array(obs[\"cell_type1\"])\n",
    "        cell_type, cell_label = np.unique(cell_name, return_inverse=True)\n",
    "        Y0 = cell_label\n",
    "\n",
    "    else:\n",
    "        with h5py.File(os.path.join(dir0, 'datasets/real/{}.h5'.format(dataset))) as data_mat:\n",
    "            X0 = np.array(data_mat['X'])\n",
    "            Y0 = np.array(data_mat['Y'])\n",
    "            X0 = np.ceil(X0).astype(np.int_)\n",
    "            Y0 = np.array(Y0).astype(np.int_).squeeze()\n",
    "\n",
    "    NMI_l, ARI_l, N = [], [], []\n",
    "    times = 10\n",
    "    for t in range(times):\n",
    "        print('----------------times: %d ----------------- ' % int(t + 1))\n",
    "        ##sample\n",
    "        seed = 10 * t\n",
    "        X, Y = sample(X0, Y0, seed)\n",
    "        adata = sc.AnnData(X)\n",
    "        adata.obs['cl_type'] = Y\n",
    "        n_clusters = len(np.unique(Y))\n",
    "        si.pp.filter_genes(adata, min_n_cells=3)\n",
    "        si.pp.filter_cells_rna(adata, min_n_genes=100)\n",
    "        si.pp.normalize(adata, method='lib_size')\n",
    "        si.pp.log_transform(adata)\n",
    "        print(adata)\n",
    "\n",
    "        si.tl.discretize(adata, n_bins=5)\n",
    "\n",
    "        si.tl.gen_graph(list_CG=[adata], use_highly_variable=False, dirname='graph0')\n",
    "\n",
    "        dict_config = si.settings.pbg_params.copy()\n",
    "        dict_config['dimension'] = 64\n",
    "\n",
    "        si.tl.pbg_train(pbg_params=dict_config, auto_wd=True, save_wd=True, output='model')\n",
    "        dict_adata = si.read_embedding()\n",
    "        print(dict_adata)\n",
    "        adata.obsm['feat'] = dict_adata['C']\n",
    "\n",
    "        # louvain\n",
    "        adata = louvain(adata, resolution=1, use_rep='feat')\n",
    "        y_pred_l = np.array(adata.obs['louvain'])\n",
    "        n_pred = len(np.unique(y_pred_l))\n",
    "        nmi_l, ari_l = np.round(calculate_metric(Y, y_pred_l), 4)\n",
    "        print('Clustering Louvain: NMI= %.4f, ARI= %.4f' % (nmi_l, ari_l))\n",
    "\n",
    "        NMI_l.append(nmi_l), ARI_l.append(ari_l),N.append(n_pred)\n",
    "\n",
    "    np.savez(os.path.join(dir0, \"results/clustering/{}/result_{}_{}.npz\".format(dataset, dataset, method)),\n",
    "             aril=ARI_l, nmil=NMI_l)\n",
    "\n",
    "    print(NMI_l)\n",
    "    print(ARI_l)\n",
    "    print(N)"
   ]
  },
  {
   "cell_type": "code",
   "execution_count": null,
   "id": "55b265b3-01cf-451d-8be0-388c04a52463",
   "metadata": {},
   "outputs": [],
   "source": []
  },
  {
   "cell_type": "code",
   "execution_count": null,
   "id": "8498b5c3-b50c-438f-8822-99e5cdfc067d",
   "metadata": {},
   "outputs": [],
   "source": []
  }
 ],
 "metadata": {
  "kernelspec": {
   "display_name": "Python 3",
   "language": "python",
   "name": "python3"
  },
  "language_info": {
   "codemirror_mode": {
    "name": "ipython",
    "version": 3
   },
   "file_extension": ".py",
   "mimetype": "text/x-python",
   "name": "python",
   "nbconvert_exporter": "python",
   "pygments_lexer": "ipython3",
   "version": "3.8.8"
  }
 },
 "nbformat": 4,
 "nbformat_minor": 5
}
