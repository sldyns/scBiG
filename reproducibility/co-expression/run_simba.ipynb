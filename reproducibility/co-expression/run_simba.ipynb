{
 "cells": [
  {
   "cell_type": "code",
   "execution_count": 1,
   "id": "e5140726-6b6a-4c7b-bd3e-668a91483561",
   "metadata": {
    "ExecutionIndicator": {
     "show": true
    },
    "tags": []
   },
   "outputs": [],
   "source": [
    "import numpy as np\n",
    "import pandas as pd\n",
    "import scanpy as sc\n",
    "import h5py\n",
    "import os\n",
    "import simba as si\n",
    "import shutil\n",
    "import warnings\n",
    "warnings.filterwarnings('ignore')"
   ]
  },
  {
   "cell_type": "code",
   "execution_count": 2,
   "id": "891f41cf-2920-41cf-8c92-c24eb6de9ce2",
   "metadata": {
    "tags": []
   },
   "outputs": [],
   "source": [
    "#shutil.rmtree('result_simba_rnaseq')"
   ]
  },
  {
   "cell_type": "code",
   "execution_count": 3,
   "id": "ff406ba8-a4b5-4cb9-9b1e-d7ee322620d5",
   "metadata": {
    "tags": []
   },
   "outputs": [
    {
     "name": "stdout",
     "output_type": "stream",
     "text": [
      "Saving results in: result_simba_rnaseq\n"
     ]
    }
   ],
   "source": [
    "workdir = 'result_simba_rnaseq'\n",
    "si.settings.set_workdir(workdir)\n",
    "si.settings.set_figure_params(dpi=80,\n",
    "                              style='white',\n",
    "                              fig_size=[5,5],\n",
    "                              rc={'image.cmap': 'viridis'})"
   ]
  },
  {
   "cell_type": "code",
   "execution_count": 4,
   "id": "bf13b99f-c8d3-40d9-a505-bf43752ae345",
   "metadata": {
    "tags": []
   },
   "outputs": [],
   "source": [
    "dataset = ['Trachea','fetal_liver_atlas']"
   ]
  },
  {
   "cell_type": "code",
   "execution_count": 5,
   "id": "0424e09e-43d2-4a50-abf3-97442b10a990",
   "metadata": {
    "ExecutionIndicator": {
     "show": true
    },
    "tags": []
   },
   "outputs": [],
   "source": [
    "##Trachea\n",
    "data = dataset[0]\n",
    "dir0 = '../'"
   ]
  },
  {
   "cell_type": "code",
   "execution_count": 6,
   "id": "31129d67-0c39-4cbe-88ba-316aa356a1fa",
   "metadata": {
    "ExecutionIndicator": {
     "show": true
    },
    "tags": []
   },
   "outputs": [
    {
     "name": "stdout",
     "output_type": "stream",
     "text": [
      "number of cell type: 7\n",
      "AnnData object with n_obs × n_vars = 7193 × 18388\n",
      "    obs: 'Cell Type'\n",
      "    var: 'feature_types'\n"
     ]
    }
   ],
   "source": [
    "with h5py.File(os.path.join(dir0, 'datasets/co-expression/{}/{}.h5').format(data, data)) as data_mat:\n",
    "    X = np.array(data_mat['X'])\n",
    "    X = np.ceil(X).astype(np.float)\n",
    "adata = sc.AnnData(X)\n",
    "gene = pd.read_csv(os.path.join(dir0, 'datasets/co-expression/{}/{}_geneset.csv').format(data, data),\n",
    "                   header=0).values.squeeze()\n",
    "adata.var['feature_types'] = gene\n",
    "celltype = pd.read_csv(os.path.join(dir0, 'datasets/co-expression/{}/{}_celltype.csv').format(data, data), header=None).values\n",
    "celltype = np.array(celltype).squeeze()\n",
    "adata.var_names = gene\n",
    "adata.obs['Cell Type'] = celltype\n",
    "print(\"number of cell type: {}\".format(len(np.unique(adata.obs['Cell Type']))))\n",
    "print(adata)"
   ]
  },
  {
   "cell_type": "code",
   "execution_count": 7,
   "id": "c16a3216",
   "metadata": {
    "pycharm": {
     "name": "#%%\n"
    }
   },
   "outputs": [],
   "source": [
    "## fetal_liver_atlas\n",
    "data = dataset[1]\n",
    "dir0 = '../'"
   ]
  },
  {
   "cell_type": "code",
   "execution_count": 8,
   "id": "2e36b87c-0198-42c4-9b19-5b50791a87b2",
   "metadata": {
    "tags": []
   },
   "outputs": [
    {
     "name": "stdout",
     "output_type": "stream",
     "text": [
      "number of cell type:7\n",
      "AnnData object with n_obs × n_vars = 500 × 28790\n",
      "    obs: 'Cell Type'\n",
      "    var: 'feature_types'\n"
     ]
    }
   ],
   "source": [
    "adata0 = sc.read_h5ad(os.path.join(dir0, 'datasets/co-expression/{}/sample_fetal_liver_atlas_dataset.h5ad').format(data))\n",
    "count = np.array(adata0.raw.X.todense())\n",
    "adata = sc.AnnData(count)\n",
    "adata.var_names = adata0.raw.var_names\n",
    "adata.obs['Cell Type'] = np.array(adata0.obs['Cell.Labels'].values)\n",
    "print(\"number of cell type:{}\".format(len(np.unique(adata.obs['Cell Type']))))\n",
    "adata.var['feature_types'] = adata.var_names\n",
    "print(adata)"
   ]
  },
  {
   "cell_type": "code",
   "execution_count": 9,
   "id": "ec9e05c5-a9d4-4297-8f81-9bebcce43572",
   "metadata": {
    "ExecutionIndicator": {
     "show": true
    },
    "tags": []
   },
   "outputs": [
    {
     "name": "stdout",
     "output_type": "stream",
     "text": [
      "Before filtering: \n",
      "500 cells, 28790 genes\n",
      "Filter genes based on min_n_cells\n",
      "After filtering out low-expressed genes: \n",
      "500 cells, 14981 genes\n",
      "before filtering: \n",
      "500 cells,  14981 genes\n",
      "filter cells based on min_n_genes\n",
      "after filtering out low-quality cells: \n",
      "500 cells,  14981 genes\n",
      "1000 variable genes are selected.\n",
      "AnnData object with n_obs × n_vars = 500 × 14981\n",
      "    obs: 'Cell Type', 'n_counts', 'n_genes', 'pct_genes'\n",
      "    var: 'feature_types', 'n_counts', 'n_cells', 'pct_cells', 'variances_norm', 'variances', 'means', 'highly_variable'\n",
      "    layers: 'raw'\n"
     ]
    }
   ],
   "source": [
    "si.pp.filter_genes(adata,min_n_cells=3)\n",
    "si.pp.filter_cells_rna(adata,min_n_genes=100)\n",
    "\n",
    "si.pp.normalize(adata,method='lib_size')\n",
    "si.pp.log_transform(adata)\n",
    "si.pp.select_variable_genes(adata, n_top_genes=1000)\n",
    "\n",
    "print(adata)"
   ]
  },
  {
   "cell_type": "code",
   "execution_count": 10,
   "id": "02f16890-1a02-4f29-9546-bc0ffb0f1c5d",
   "metadata": {
    "tags": []
   },
   "outputs": [
    {
     "data": {
      "image/png": "[encoded data removed]",
      "text/plain": [
       "<Figure size 480x480 with 2 Axes>"
      ]
     },
     "metadata": {},
     "output_type": "display_data"
    }
   ],
   "source": [
    "si.tl.discretize(adata,n_bins=5)\n",
    "si.pl.discretize(adata,kde=False)"
   ]
  },
  {
   "cell_type": "code",
   "execution_count": 11,
   "id": "da438c52-3308-4eaa-8dc0-a357fbc8c382",
   "metadata": {
    "ExecutionIndicator": {
     "show": true
    },
    "tags": []
   },
   "outputs": [
    {
     "name": "stdout",
     "output_type": "stream",
     "text": [
      "relation0: source: C, destination: G\n",
      "#edges: 35673\n",
      "relation1: source: C, destination: G\n",
      "#edges: 25058\n",
      "relation2: source: C, destination: G\n",
      "#edges: 14247\n",
      "relation3: source: C, destination: G\n",
      "#edges: 5847\n",
      "relation4: source: C, destination: G\n",
      "#edges: 2023\n",
      "Total number of edges: 82848\n",
      "Writing graph file \"pbg_graph.txt\" to \"result_simba_rnaseq\\pbg\\graph0\" ...\n",
      "Finished.\n"
     ]
    }
   ],
   "source": [
    "si.tl.gen_graph(list_CG=[adata],\n",
    "                use_highly_variable=True,\n",
    "                dirname='graph0')"
   ]
  },
  {
   "cell_type": "code",
   "execution_count": 12,
   "id": "668f1cb3-2106-412c-a1f8-84fc88f6ba57",
   "metadata": {
    "ExecutionIndicator": {
     "show": true
    },
    "tags": []
   },
   "outputs": [],
   "source": [
    "dict_config = si.settings.pbg_params.copy()\n",
    "# dict_config['wd'] = 0.015521\n",
    "# dict_config['wd_interval'] = 10 # we usually set `wd_interval` to 10 for scRNA-seq datasets for a slower but finer training\n",
    "dict_config['workers'] = 16 #The number of CPUs.\n",
    "dict_config['num_epochs'] = 10\n",
    "dict_config['dimension'] = 64"
   ]
  },
  {
   "cell_type": "code",
   "execution_count": 13,
   "id": "2bbc7e48-6656-4635-9efd-909a821d97c1",
   "metadata": {
    "ExecutionIndicator": {
     "show": true
    },
    "tags": []
   },
   "outputs": [
    {
     "name": "stdout",
     "output_type": "stream",
     "text": [
      "Auto-estimated weight decay is 0.427713\n",
      "`.settings.pbg_params['wd']` has been updated to 0.427713\n",
      "Converting input data ...\n",
      "[2023-08-27 17:10:25.239739] Using the 5 relation types given in the config\n",
      "[2023-08-27 17:10:25.239739] Searching for the entities in the edge files...\n",
      "[2023-08-27 17:10:25.343454] Entity type C:\n",
      "[2023-08-27 17:10:25.344455] - Found 500 entities\n",
      "[2023-08-27 17:10:25.344455] - Removing the ones with fewer than 1 occurrences...\n",
      "[2023-08-27 17:10:25.344455] - Left with 500 entities\n",
      "[2023-08-27 17:10:25.344455] - Shuffling them...\n",
      "[2023-08-27 17:10:25.345455] Entity type G:\n",
      "[2023-08-27 17:10:25.345455] - Found 1000 entities\n",
      "[2023-08-27 17:10:25.346455] - Removing the ones with fewer than 1 occurrences...\n",
      "[2023-08-27 17:10:25.346455] - Left with 1000 entities\n",
      "[2023-08-27 17:10:25.346455] - Shuffling them...\n",
      "[2023-08-27 17:10:25.347455] Preparing counts and dictionaries for entities and relation types:\n",
      "[2023-08-27 17:10:25.348456] - Writing count of entity type C and partition 0\n",
      "[2023-08-27 17:10:25.350456] - Writing count of entity type G and partition 0\n",
      "[2023-08-27 17:10:25.352457] Preparing edge path result_simba_rnaseq\\pbg\\graph0\\input/edge, out of the edges found in result_simba_rnaseq\\pbg\\graph0\\pbg_graph.txt\n",
      "using fast version\n",
      "[2023-08-27 17:10:25.352457] Taking the fast train!\n",
      "[2023-08-27 17:10:26.116961] - Processed 82848 edges in total\n",
      "Starting training ...\n",
      "Finished\n"
     ]
    }
   ],
   "source": [
    "si.tl.pbg_train(pbg_params=dict_config, auto_wd=True, save_wd=True, output='model')"
   ]
  },
  {
   "cell_type": "code",
   "execution_count": 14,
   "id": "32d25b64-e721-435e-8570-5785b2368781",
   "metadata": {
    "tags": []
   },
   "outputs": [
    {
     "data": {
      "image/png": "[encoded data removed]",
      "text/plain": [
       "<Figure size 420x720 with 3 Axes>"
      ]
     },
     "metadata": {},
     "output_type": "display_data"
    }
   ],
   "source": [
    "si.pl.pbg_metrics(fig_ncol=1)"
   ]
  },
  {
   "cell_type": "code",
   "execution_count": 15,
   "id": "e58a6bd3-a0d3-4e16-96ca-9a87877f10f0",
   "metadata": {
    "tags": []
   },
   "outputs": [
    {
     "data": {
      "text/plain": [
       "{'C': AnnData object with n_obs × n_vars = 500 × 64,\n",
       " 'G': AnnData object with n_obs × n_vars = 1000 × 64}"
      ]
     },
     "execution_count": 15,
     "metadata": {},
     "output_type": "execute_result"
    }
   ],
   "source": [
    "dict_adata = si.read_embedding()\n",
    "dict_adata"
   ]
  },
  {
   "cell_type": "code",
   "execution_count": 16,
   "id": "329d1bdf-3d30-46db-9936-6e54510623bb",
   "metadata": {
    "tags": []
   },
   "outputs": [],
   "source": [
    "adata_C = dict_adata['C']  # embeddings of cells\n",
    "adata_G = dict_adata['G']  # embeddings of genes"
   ]
  },
  {
   "cell_type": "code",
   "execution_count": 17,
   "id": "9c399c6a-4459-4ad5-8b1a-024ce5dad70a",
   "metadata": {
    "ExecutionIndicator": {
     "show": true
    },
    "tags": []
   },
   "outputs": [
    {
     "data": {
      "text/plain": [
       "Index(['TSTD1', 'MZB1', 'ASPG', 'BCL2A1', 'KB-208E9.1', 'FTCD', 'RASGEF1B',\n",
       "       'SERPINA11', 'H2AFZ', 'HSD17B12',\n",
       "       ...\n",
       "       'TUBA1A', 'SNHG25', 'TCEA3', 'RGS16', 'CYP4F3', 'HLA-DQB1', 'IGSF1',\n",
       "       'FAM178B', 'VPREB3', 'PCOLCE'],\n",
       "      dtype='object', length=1000)"
      ]
     },
     "execution_count": 17,
     "metadata": {},
     "output_type": "execute_result"
    }
   ],
   "source": [
    "adata_G.obs_names"
   ]
  },
  {
   "cell_type": "code",
   "execution_count": 18,
   "id": "6a871e34-390c-43bc-85a8-6835d7029a12",
   "metadata": {
    "ExecutionIndicator": {
     "show": false
    },
    "tags": []
   },
   "outputs": [],
   "source": [
    "np.savez(os.path.join(dir0,\"results/co-expression/{}_simba.npz\".format(data)),\n",
    "         data = adata.X,\n",
    "         E_feature = adata_G.X,\n",
    "         cell_type = adata.obs['Cell Type'],\n",
    "         gene_name = adata_G.obs_names)"
   ]
  },
  {
   "cell_type": "code",
   "execution_count": null,
   "id": "b5e328bc-99b9-48f5-8186-36ee305aef9b",
   "metadata": {},
   "outputs": [],
   "source": []
  },
  {
   "cell_type": "code",
   "execution_count": null,
   "id": "c1fcdfdb-4620-4846-91f1-df3e2a679537",
   "metadata": {},
   "outputs": [],
   "source": []
  }
 ],
 "metadata": {
  "kernelspec": {
   "display_name": "Python 3",
   "language": "python",
   "name": "python3"
  },
  "language_info": {
   "codemirror_mode": {
    "name": "ipython",
    "version": 3
   },
   "file_extension": ".py",
   "mimetype": "text/x-python",
   "name": "python",
   "nbconvert_exporter": "python",
   "pygments_lexer": "ipython3",
   "version": "3.8.8"
  }
 },
 "nbformat": 4,
 "nbformat_minor": 5
}