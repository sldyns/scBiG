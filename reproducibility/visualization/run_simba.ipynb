{
 "cells": [
  {
   "cell_type": "code",
   "execution_count": 1,
   "id": "bf13aa05-cae1-4c75-86d2-575a3d9e2d36",
   "metadata": {},
   "outputs": [
    {
     "name": "stderr",
     "output_type": "stream",
     "text": [
      "Using backend: pytorch\n"
     ]
    }
   ],
   "source": [
    "import numpy as np\n",
    "import scanpy as sc\n",
    "import h5py\n",
    "import os\n",
    "from scbig.utils import read_data, setup_seed,louvain,calculate_metric\n",
    "import warnings\n",
    "warnings.filterwarnings('ignore')\n",
    "import simba as si\n",
    "import shutil"
   ]
  },
  {
   "cell_type": "code",
   "execution_count": 2,
   "id": "614c903e-b6b2-4456-bd7d-2f90babc102a",
   "metadata": {},
   "outputs": [],
   "source": [
    "#shutil.rmtree('result_simba_rnaseq')  "
   ]
  },
  {
   "cell_type": "code",
   "execution_count": 3,
   "id": "d96185bc-fe2f-4711-a641-286a456a5290",
   "metadata": {},
   "outputs": [
    {
     "name": "stdout",
     "output_type": "stream",
     "text": [
      "Saving results in: result_simba_rnaseq\n"
     ]
    }
   ],
   "source": [
    "workdir = 'result_simba_rnaseq'\n",
    "si.settings.set_workdir(workdir)\n",
    "si.settings.set_figure_params(dpi=80,style='white',fig_size=[5,5],rc={'image.cmap': 'viridis'})"
   ]
  },
  {
   "cell_type": "code",
   "execution_count": 4,
   "id": "2f99e543-a8db-4214-8a69-fa668b13fc61",
   "metadata": {},
   "outputs": [],
   "source": [
    "setup_seed(0)"
   ]
  },
  {
   "cell_type": "code",
   "execution_count": 5,
   "id": "30548d23-d69b-4b15-b029-80909ad2ac7e",
   "metadata": {},
   "outputs": [],
   "source": [
    "datasets=['10X_PBMC','mouse_bladder_cell','mouse_ES_cell','human_kidney_counts','Adam','Human_pancreatic_islets','Macosko_mouse_retina']"
   ]
  },
  {
   "cell_type": "code",
   "execution_count": 6,
   "id": "eb92b882-8740-4d13-ac2a-8a1cc28a8661",
   "metadata": {},
   "outputs": [
    {
     "name": "stdout",
     "output_type": "stream",
     "text": [
      "----------------real data: 10X_PBMC ----------------- \n"
     ]
    }
   ],
   "source": [
    "dataset = datasets[0]\n",
    "print('----------------real data: {} ----------------- '.format(dataset))\n",
    "method = 'SIMBA'\n",
    "dir0 = '../'\n",
    "dir1 = '{}'.format(dataset)"
   ]
  },
  {
   "cell_type": "code",
   "execution_count": 7,
   "id": "0b2b1f1d-669f-41e2-97f7-1f37853cfc38",
   "metadata": {},
   "outputs": [
    {
     "name": "stdout",
     "output_type": "stream",
     "text": [
      "AnnData object with n_obs × n_vars = 4271 × 16653\n",
      "    obs: 'cl_type'\n"
     ]
    }
   ],
   "source": [
    "if dataset in ['Adam']:\n",
    "    mat, obs, var, uns = read_data(os.path.join(dir0, 'datasets/real/{}.h5'.format(dataset)), sparsify=False,\n",
    "                                   skip_exprs=False)\n",
    "    X = np.array(mat.toarray())\n",
    "    cell_name = np.array(obs[\"cell_type1\"])\n",
    "    cell_type, cell_label = np.unique(cell_name, return_inverse=True)\n",
    "    Y = cell_label\n",
    "else:\n",
    "    with h5py.File(os.path.join(dir0, 'datasets/real/{}.h5'.format(dataset))) as data_mat:\n",
    "        X = np.array(data_mat['X'])\n",
    "        Y = np.array(data_mat['Y'])\n",
    "        X = np.ceil(X).astype(np.int_)\n",
    "        Y = np.array(Y).astype(np.int_).squeeze()\n",
    "\n",
    "adata = sc.AnnData(X.astype('float'))\n",
    "adata.obs['cl_type'] = Y\n",
    "n_clusters = len(np.unique(Y))\n",
    "print(adata)"
   ]
  },
  {
   "cell_type": "code",
   "execution_count": 8,
   "id": "603db7c7-f06d-4fdf-a5e1-bfcb804eb776",
   "metadata": {},
   "outputs": [
    {
     "name": "stdout",
     "output_type": "stream",
     "text": [
      "Before filtering: \n",
      "4271 cells, 16653 genes\n",
      "Filter genes based on min_n_cells\n",
      "After filtering out low-expressed genes: \n",
      "4271 cells, 16486 genes\n",
      "before filtering: \n",
      "4271 cells,  16486 genes\n",
      "filter cells based on min_n_genes\n",
      "after filtering out low-quality cells: \n",
      "4271 cells,  16486 genes\n",
      "AnnData object with n_obs × n_vars = 4271 × 16486\n",
      "    obs: 'cl_type', 'n_counts', 'n_genes', 'pct_genes'\n",
      "    var: 'n_counts', 'n_cells', 'pct_cells'\n",
      "    layers: 'raw'\n"
     ]
    }
   ],
   "source": [
    "si.pp.filter_genes(adata, min_n_cells=3)\n",
    "si.pp.filter_cells_rna(adata, min_n_genes=100)\n",
    "si.pp.normalize(adata, method='lib_size')\n",
    "si.pp.log_transform(adata)\n",
    "print(adata)"
   ]
  },
  {
   "cell_type": "code",
   "execution_count": 9,
   "id": "c23b38d5-c127-479d-90b7-ceea0c631b4c",
   "metadata": {},
   "outputs": [
    {
     "name": "stdout",
     "output_type": "stream",
     "text": [
      "relation0: source: C, destination: G\n",
      "#edges: 2342675\n",
      "relation1: source: C, destination: G\n",
      "#edges: 1984106\n",
      "relation2: source: C, destination: G\n",
      "#edges: 689952\n",
      "relation3: source: C, destination: G\n",
      "#edges: 313860\n",
      "relation4: source: C, destination: G\n",
      "#edges: 190589\n",
      "Total number of edges: 5521182\n",
      "Writing graph file \"pbg_graph.txt\" to \"result_simba_rnaseq\\pbg\\graph0\" ...\n",
      "Finished.\n"
     ]
    }
   ],
   "source": [
    "si.tl.discretize(adata, n_bins=5)\n",
    "si.tl.gen_graph(list_CG=[adata],use_highly_variable=False,dirname='graph0')"
   ]
  },
  {
   "cell_type": "code",
   "execution_count": 10,
   "id": "03ae36d2-deb6-48d9-be38-23066cac8912",
   "metadata": {},
   "outputs": [
    {
     "name": "stdout",
     "output_type": "stream",
     "text": [
      "Auto-estimated weight decay is 0.006418\n",
      "`.settings.pbg_params['wd']` has been updated to 0.006418\n",
      "Converting input data ...\n",
      "[2023-08-27 20:26:57.262595] Using the 5 relation types given in the config\n",
      "[2023-08-27 20:26:57.262595] Searching for the entities in the edge files...\n",
      "[2023-08-27 20:27:04.874813] Entity type C:\n",
      "[2023-08-27 20:27:04.874813] - Found 4271 entities\n",
      "[2023-08-27 20:27:04.875813] - Removing the ones with fewer than 1 occurrences...\n",
      "[2023-08-27 20:27:04.876814] - Left with 4271 entities\n",
      "[2023-08-27 20:27:04.876814] - Shuffling them...\n",
      "[2023-08-27 20:27:04.879816] Entity type G:\n",
      "[2023-08-27 20:27:04.880815] - Found 16486 entities\n",
      "[2023-08-27 20:27:04.880815] - Removing the ones with fewer than 1 occurrences...\n",
      "[2023-08-27 20:27:04.883817] - Left with 16486 entities\n",
      "[2023-08-27 20:27:04.883817] - Shuffling them...\n",
      "[2023-08-27 20:27:04.894818] Preparing counts and dictionaries for entities and relation types:\n",
      "[2023-08-27 20:27:04.896818] - Writing count of entity type C and partition 0\n",
      "[2023-08-27 20:27:04.901819] - Writing count of entity type G and partition 0\n",
      "[2023-08-27 20:27:04.914823] Preparing edge path result_simba_rnaseq\\pbg\\graph0\\input/edge, out of the edges found in result_simba_rnaseq\\pbg\\graph0\\pbg_graph.txt\n",
      "using fast version\n",
      "[2023-08-27 20:27:04.915823] Taking the fast train!\n",
      "[2023-08-27 20:27:05.491502] - Processed 100000 edges so far...\n",
      "[2023-08-27 20:27:06.023284] - Processed 200000 edges so far...\n",
      "[2023-08-27 20:27:06.552507] - Processed 300000 edges so far...\n",
      "[2023-08-27 20:27:07.087436] - Processed 400000 edges so far...\n",
      "[2023-08-27 20:27:07.618283] - Processed 500000 edges so far...\n",
      "[2023-08-27 20:27:08.145229] - Processed 600000 edges so far...\n",
      "[2023-08-27 20:27:08.653157] - Processed 700000 edges so far...\n",
      "[2023-08-27 20:27:09.135459] - Processed 800000 edges so far...\n",
      "[2023-08-27 20:27:09.624478] - Processed 900000 edges so far...\n",
      "[2023-08-27 20:27:10.116897] - Processed 1000000 edges so far...\n",
      "[2023-08-27 20:27:10.612493] - Processed 1100000 edges so far...\n",
      "[2023-08-27 20:27:11.109229] - Processed 1200000 edges so far...\n",
      "[2023-08-27 20:27:11.608408] - Processed 1300000 edges so far...\n",
      "[2023-08-27 20:27:12.096076] - Processed 1400000 edges so far...\n",
      "[2023-08-27 20:27:12.584295] - Processed 1500000 edges so far...\n",
      "[2023-08-27 20:27:13.075931] - Processed 1600000 edges so far...\n",
      "[2023-08-27 20:27:13.563733] - Processed 1700000 edges so far...\n",
      "[2023-08-27 20:27:14.080396] - Processed 1800000 edges so far...\n",
      "[2023-08-27 20:27:14.576527] - Processed 1900000 edges so far...\n",
      "[2023-08-27 20:27:15.102763] - Processed 2000000 edges so far...\n",
      "[2023-08-27 20:27:15.665431] - Processed 2100000 edges so far...\n",
      "[2023-08-27 20:27:16.190314] - Processed 2200000 edges so far...\n",
      "[2023-08-27 20:27:16.710409] - Processed 2300000 edges so far...\n",
      "[2023-08-27 20:27:17.217075] - Processed 2400000 edges so far...\n",
      "[2023-08-27 20:27:17.712947] - Processed 2500000 edges so far...\n",
      "[2023-08-27 20:27:18.199955] - Processed 2600000 edges so far...\n",
      "[2023-08-27 20:27:18.700180] - Processed 2700000 edges so far...\n",
      "[2023-08-27 20:27:19.197805] - Processed 2800000 edges so far...\n",
      "[2023-08-27 20:27:19.687483] - Processed 2900000 edges so far...\n",
      "[2023-08-27 20:27:20.178613] - Processed 3000000 edges so far...\n",
      "[2023-08-27 20:27:20.679490] - Processed 3100000 edges so far...\n",
      "[2023-08-27 20:27:21.184938] - Processed 3200000 edges so far...\n",
      "[2023-08-27 20:27:21.681937] - Processed 3300000 edges so far...\n",
      "[2023-08-27 20:27:22.180531] - Processed 3400000 edges so far...\n",
      "[2023-08-27 20:27:22.674418] - Processed 3500000 edges so far...\n",
      "[2023-08-27 20:27:23.193590] - Processed 3600000 edges so far...\n",
      "[2023-08-27 20:27:23.692453] - Processed 3700000 edges so far...\n",
      "[2023-08-27 20:27:24.174644] - Processed 3800000 edges so far...\n",
      "[2023-08-27 20:27:24.664284] - Processed 3900000 edges so far...\n",
      "[2023-08-27 20:27:25.169966] - Processed 4000000 edges so far...\n",
      "[2023-08-27 20:27:25.674237] - Processed 4100000 edges so far...\n",
      "[2023-08-27 20:27:26.175914] - Processed 4200000 edges so far...\n",
      "[2023-08-27 20:27:26.663575] - Processed 4300000 edges so far...\n",
      "[2023-08-27 20:27:27.159224] - Processed 4400000 edges so far...\n",
      "[2023-08-27 20:27:27.654372] - Processed 4500000 edges so far...\n",
      "[2023-08-27 20:27:28.135514] - Processed 4600000 edges so far...\n",
      "[2023-08-27 20:27:28.615684] - Processed 4700000 edges so far...\n",
      "[2023-08-27 20:27:29.114929] - Processed 4800000 edges so far...\n",
      "[2023-08-27 20:27:29.626307] - Processed 4900000 edges so far...\n",
      "[2023-08-27 20:27:30.134960] - Processed 5000000 edges so far...\n",
      "[2023-08-27 20:27:30.654680] - Processed 5100000 edges so far...\n",
      "[2023-08-27 20:27:31.136319] - Processed 5200000 edges so far...\n",
      "[2023-08-27 20:27:31.606286] - Processed 5300000 edges so far...\n",
      "[2023-08-27 20:27:32.084504] - Processed 5400000 edges so far...\n",
      "[2023-08-27 20:27:32.562874] - Processed 5500000 edges so far...\n",
      "[2023-08-27 20:27:38.405622] - Processed 5521182 edges in total\n",
      "Starting training ...\n",
      "Finished\n"
     ]
    }
   ],
   "source": [
    "dict_config = si.settings.pbg_params.copy()\n",
    "dict_config['dimension'] = 64\n",
    "si.tl.pbg_train(pbg_params=dict_config, auto_wd=True, save_wd=True, output='model')"
   ]
  },
  {
   "cell_type": "code",
   "execution_count": 11,
   "id": "1a9985c4-ac93-4b21-b789-8a03a986d704",
   "metadata": {},
   "outputs": [
    {
     "name": "stdout",
     "output_type": "stream",
     "text": [
      "{'C': AnnData object with n_obs × n_vars = 4271 × 64, 'G': AnnData object with n_obs × n_vars = 16486 × 64}\n"
     ]
    }
   ],
   "source": [
    "dict_adata = si.read_embedding()\n",
    "print(dict_adata)"
   ]
  },
  {
   "cell_type": "code",
   "execution_count": 12,
   "id": "4fdded34-ff57-40ed-a62b-62e097da64b9",
   "metadata": {},
   "outputs": [
    {
     "data": {
      "text/plain": [
       "(4271, 64)"
      ]
     },
     "execution_count": 12,
     "metadata": {},
     "output_type": "execute_result"
    }
   ],
   "source": [
    "adata_C = dict_adata['C']\n",
    "adata_C.obs_names = adata_C.obs_names.astype('str')\n",
    "adata.obsm['feat'] = np.array(adata_C[adata.obs_names,:].X)\n",
    "adata.obsm['feat'].shape"
   ]
  },
  {
   "cell_type": "code",
   "execution_count": 13,
   "id": "f828ee8f-5ae2-4101-9ca4-5cb02ba1a41b",
   "metadata": {},
   "outputs": [
    {
     "name": "stdout",
     "output_type": "stream",
     "text": [
      "Clustering Louvain: NMI= 0.7695, ARI= 0.7549\n"
     ]
    }
   ],
   "source": [
    " # louvain\n",
    "adata = louvain(adata, resolution=1, use_rep='feat')\n",
    "y_pred_l = np.array(adata.obs['louvain'])\n",
    "n_pred = len(np.unique(y_pred_l))\n",
    "nmi_l, ari_l = np.round(calculate_metric(Y, y_pred_l), 4)\n",
    "print('Clustering Louvain: NMI= %.4f, ARI= %.4f' % (nmi_l, ari_l))"
   ]
  },
  {
   "cell_type": "code",
   "execution_count": 14,
   "id": "ee5cf421-6c40-4151-aab8-0a6ffc62c196",
   "metadata": {},
   "outputs": [
    {
     "name": "stdout",
     "output_type": "stream",
     "text": [
      "AnnData object with n_obs × n_vars = 4271 × 16486\n",
      "    obs: 'cl_type', 'n_counts', 'n_genes', 'pct_genes', 'pbg_id', 'louvain'\n",
      "    var: 'n_counts', 'n_cells', 'pct_cells', 'pbg_id'\n",
      "    uns: 'disc', 'neighbors', 'louvain', 'umap'\n",
      "    obsm: 'feat', 'X_umap'\n",
      "    layers: 'raw', 'disc'\n",
      "    obsp: 'distances', 'connectivities'\n",
      "0.7695\n",
      "0.7549\n",
      "9\n"
     ]
    }
   ],
   "source": [
    "sc.tl.umap(adata)\n",
    "print(adata)\n",
    "\n",
    "np.savez(os.path.join(dir0,\"results/visualization/{}/record_{}_{}.npz\".format(dataset,dataset,method)),\n",
    "         ari=ari_l, nmi=nmi_l,\n",
    "         umap=adata.obsm['X_umap'],\n",
    "         true=np.array(adata.obs['cl_type'].values.astype(int)),\n",
    "         louvain=np.array(adata.obs['louvain'].values.astype(int)))\n",
    "\n",
    "print(nmi_l)\n",
    "print(ari_l)\n",
    "print(n_pred)"
   ]
  },
  {
   "cell_type": "code",
   "execution_count": null,
   "id": "8e0c57b7-a236-45de-baea-acb2d336f40e",
   "metadata": {},
   "outputs": [],
   "source": []
  }
 ],
 "metadata": {
  "kernelspec": {
   "display_name": "Python 3",
   "language": "python",
   "name": "python3"
  },
  "language_info": {
   "codemirror_mode": {
    "name": "ipython",
    "version": 3
   },
   "file_extension": ".py",
   "mimetype": "text/x-python",
   "name": "python",
   "nbconvert_exporter": "python",
   "pygments_lexer": "ipython3",
   "version": "3.8.8"
  }
 },
 "nbformat": 4,
 "nbformat_minor": 5
}