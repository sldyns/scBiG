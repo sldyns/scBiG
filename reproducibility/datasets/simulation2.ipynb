{
 "cells": [
  {
   "cell_type": "code",
   "execution_count": 1,
   "id": "b1e68c55-dc27-4c4e-9685-8d6055bafa09",
   "metadata": {},
   "outputs": [],
   "source": [
    "import numpy as np\n",
    "from numpy import random\n",
    "import warnings\n",
    "warnings.simplefilter(action='ignore', category=FutureWarning)"
   ]
  },
  {
   "cell_type": "code",
   "execution_count": 2,
   "id": "fbe86cb0-98a0-449f-84f9-96a04c8b970b",
   "metadata": {},
   "outputs": [
    {
     "name": "stdout",
     "output_type": "stream",
     "text": [
      "D:\\scBiG\\reproducibility\\datasets\n"
     ]
    }
   ],
   "source": [
    "import os\n",
    "print(os.path.abspath('.'))"
   ]
  },
  {
   "cell_type": "code",
   "execution_count": 3,
   "id": "194c7393-0eb9-46e8-b6cf-84ba17b7499f",
   "metadata": {},
   "outputs": [],
   "source": [
    "from prosstt import simulation as sim\n",
    "from prosstt import sim_utils as sut\n",
    "from prosstt.tree import Tree"
   ]
  },
  {
   "cell_type": "code",
   "execution_count": 4,
   "id": "bad1b41d-a38b-46c0-8b2a-a9f4e178e4b3",
   "metadata": {},
   "outputs": [],
   "source": [
    "t = Tree(topology=[[\"0\", \"1\"], [\"1\", \"2\"], [\"2\", \"3\"], [\"3\", \"4\"], [\"4\", \"5\"]],\n",
    "         time={\"0\":100, \"1\":100, \"2\":100, \"3\":200, \"4\":100, \"5\":200},\n",
    "         num_branches=6,\n",
    "         branch_points=0,\n",
    "         modules=15,\n",
    "         G=10000,\n",
    "         density=None,\n",
    "         root=\"0\")"
   ]
  },
  {
   "cell_type": "code",
   "execution_count": 5,
   "id": "4093310c-435e-4dcf-895a-6e0cedec6de7",
   "metadata": {},
   "outputs": [
    {
     "data": {
      "text/plain": [
       "defaultdict(list,\n",
       "            {'0': [0, 99],\n",
       "             '1': [100, 199],\n",
       "             '2': [200, 299],\n",
       "             '3': [300, 499],\n",
       "             '4': [500, 599],\n",
       "             '5': [600, 799]})"
      ]
     },
     "execution_count": 5,
     "metadata": {},
     "output_type": "execute_result"
    }
   ],
   "source": [
    "##Return the start to end time of each branch\n",
    "t.branch_times()"
   ]
  },
  {
   "cell_type": "code",
   "execution_count": 6,
   "id": "71654f78-f49c-4f66-b8b8-71f4dd63c91d",
   "metadata": {},
   "outputs": [
    {
     "data": {
      "text/plain": [
       "0.06666666666666667"
      ]
     },
     "execution_count": 6,
     "metadata": {},
     "output_type": "execute_result"
    }
   ],
   "source": [
    "# mya = np.min([0.05, 1 / t.modules])  \n",
    "# mya\n",
    "mya = np.min([0.075, 1 / t.modules])  \n",
    "mya"
   ]
  },
  {
   "cell_type": "code",
   "execution_count": 7,
   "id": "0ad6384b-672a-4a17-acaa-b27c2c170e2c",
   "metadata": {},
   "outputs": [
    {
     "name": "stderr",
     "output_type": "stream",
     "text": [
      "C:\\ProgramData\\Anaconda3\\lib\\site-packages\\scipy\\stats\\stats.py:3913: PearsonRConstantInputWarning: An input array is constant; the correlation coefficent is not defined.\n",
      "  warnings.warn(PearsonRConstantInputWarning())\n"
     ]
    }
   ],
   "source": [
    "uMs, Ws, Hs = sim.simulate_lineage(t, a=mya, intra_branch_tol=-1, inter_branch_tol=0)"
   ]
  },
  {
   "cell_type": "code",
   "execution_count": 8,
   "id": "789c9fdd-3cd0-4b09-a30f-952a8090fa0f",
   "metadata": {},
   "outputs": [],
   "source": [
    "num_cells=500\n",
    "gene_scale = sut.simulate_base_gene_exp(t, uMs)\n",
    "t.add_genes(uMs, gene_scale)\n",
    "alpha = np.exp(random.normal(loc=np.log(0.1), scale=np.log(1), size=t.G))\n",
    "beta = np.exp(random.normal(loc=np.log(1), scale=np.log(1.5), size=t.G)) + 1\n",
    "series_points = [100, 200, 300, 400, 500]\n",
    "point_std = [10, 10, 10, 10, 10] \n",
    "X, labs, brns, scalings = sim.sample_pseudotime_series(t, num_cells, series_points, point_std, alpha=alpha, beta=beta)"
   ]
  },
  {
   "cell_type": "code",
   "execution_count": 9,
   "id": "13fb7700-3c09-414e-b35f-297be4c0c51f",
   "metadata": {},
   "outputs": [
    {
     "data": {
      "text/plain": [
       "array([[ 0,  3,  0, ...,  0,  1,  0],\n",
       "       [ 1,  6,  9, ..., 10, 16,  0],\n",
       "       [ 0,  4,  2, ...,  4, 12,  2],\n",
       "       ...,\n",
       "       [ 1,  2,  6, ...,  3,  4,  0],\n",
       "       [ 1,  5,  1, ...,  6,  5,  0],\n",
       "       [ 1,  3,  5, ...,  8, 16,  0]])"
      ]
     },
     "execution_count": 9,
     "metadata": {},
     "output_type": "execute_result"
    }
   ],
   "source": [
    "X"
   ]
  },
  {
   "cell_type": "code",
   "execution_count": 10,
   "id": "97ef5116-1eb8-49a9-90ef-fe4220b06f54",
   "metadata": {},
   "outputs": [
    {
     "name": "stdout",
     "output_type": "stream",
     "text": [
      "Sparsity:  0.5379522\n"
     ]
    }
   ],
   "source": [
    " print(\"Sparsity: \", np.where(X == 0)[0].shape[0] / (X.shape[0] * X.shape[1]))"
   ]
  },
  {
   "cell_type": "code",
   "execution_count": 11,
   "id": "e2362bb5-a976-421e-9271-12276496d333",
   "metadata": {},
   "outputs": [],
   "source": [
    "import h5py\n",
    "f = h5py.File('trajectory/DPT.h5','w') \n",
    "f['X'] = X \n",
    "f['Y'] = brns \n",
    "f['pt'] = labs\n",
    "f.close()"
   ]
  },
  {
   "cell_type": "markdown",
   "id": "5ac6c831-8325-4b49-8224-a9e34eed4869",
   "metadata": {
    "pycharm": {
     "name": "#%% md\n"
    }
   },
   "source": [
    "#"
   ]
  }
 ],
 "metadata": {
  "kernelspec": {
   "display_name": "Python 3",
   "language": "python",
   "name": "python3"
  },
  "language_info": {
   "codemirror_mode": {
    "name": "ipython",
    "version": 3
   },
   "file_extension": ".py",
   "mimetype": "text/x-python",
   "name": "python",
   "nbconvert_exporter": "python",
   "pygments_lexer": "ipython3",
   "version": "3.8.8"
  }
 },
 "nbformat": 4,
 "nbformat_minor": 5
}