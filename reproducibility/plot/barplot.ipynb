{
 "cells": [
  {
   "cell_type": "code",
   "execution_count": 1,
   "id": "f6c90b70-9933-40e8-a140-fa46ed68d19b",
   "metadata": {},
   "outputs": [
    {
     "name": "stderr",
     "output_type": "stream",
     "text": [
      "Using backend: pytorch\n"
     ]
    }
   ],
   "source": [
    "import numpy as np\n",
    "import pandas as pd\n",
    "import scanpy as sc\n",
    "import h5py\n",
    "import os\n",
    "import matplotlib.pyplot as plt\n",
    "from scbig import read_data\n",
    "import warnings\n",
    "warnings.filterwarnings('ignore')\n",
    "import matplotlib\n",
    "matplotlib.use('agg')\n",
    "plt.rcParams['font.family'] = 'Arial'"
   ]
  },
  {
   "cell_type": "code",
   "execution_count": 2,
   "id": "f0fb3295-e1e9-4951-a3c7-6242f8182bfb",
   "metadata": {},
   "outputs": [],
   "source": [
    "datasets = ['10X_PBMC','Human_pancreatic_islets','Macosko_mouse_retina','mouse_ES_cell','mouse_bladder_cell','Adam','human_kidney_counts']\n",
    "xs = ['Human_PBMC', 'Human pancreas','Mouse retina','Mouse ES','Mouse bladder','Mouse kidney', 'Human kidney']"
   ]
  },
  {
   "cell_type": "code",
   "execution_count": 3,
   "id": "a265b8a8-c990-49b3-b2b9-c8baf4204fc4",
   "metadata": {},
   "outputs": [],
   "source": [
    "# ## ### plot bar\n",
    "def plot_bar(x, y, label, color, metrics):\n",
    "    plt.bar(x, y, label=label, color=color, width=0.6)\n",
    "    plt.xticks(rotation=45, fontsize=15, family='Arial', ha='right')\n",
    "    plt.yticks(fontsize=15, family='Arial', ha='right')\n",
    "    plt.ylabel(metrics, fontsize=15, family='Arial')\n",
    "    plt.rcParams.update({'font.size': 12})"
   ]
  },
  {
   "cell_type": "code",
   "execution_count": 4,
   "id": "0b73529b-e69f-4854-9d5f-a835f7147f51",
   "metadata": {},
   "outputs": [
    {
     "name": "stdout",
     "output_type": "stream",
     "text": [
      "----------------real data: 10X_PBMC ----------------- \n",
      "----------------real data: mouse_bladder_cell ----------------- \n",
      "----------------real data: Adam ----------------- \n",
      "----------------real data: Human_pancreatic_islets ----------------- \n",
      "----------------real data: human_kidney_counts ----------------- \n",
      "----------------real data: mouse_ES_cell ----------------- \n",
      "----------------real data: Macosko_mouse_retina ----------------- \n"
     ]
    }
   ],
   "source": [
    "for dataset in ['10X_PBMC','mouse_bladder_cell','Adam','Human_pancreatic_islets',\n",
    "                'human_kidney_counts','mouse_ES_cell','Macosko_mouse_retina']:\n",
    "    print('----------------real data: {} ----------------- '.format(dataset))\n",
    "    dir0 = '../'\n",
    "    ARI = []\n",
    "    NMI = []\n",
    "    if dataset in ['10X_PBMC','mouse_bladder_cell','Adam','Human_pancreatic_islets']:\n",
    "        methods = ['Seurat', 'ICA','ZIFA', 'graph-sc','scGAE','scGNN','DCA', 'scVI', 'SIMBA', 'scBiG']\n",
    "        color = ['#D9412B', '#F67948', '#FABB6E', '#F9E07F', '#4F9D9D', '#8f8ce7','#B7B7B7','#92C5DE', '#5C90C2', '#E79796']\n",
    "        for method in methods:\n",
    "#             print('----------------method: {} ----------------- '.format(method))\n",
    "            r = np.load(os.path.join(dir0, 'results/visualization/{}/record_{}_{}.npz'.format(dataset, dataset, method)), allow_pickle=True)\n",
    "            ari = r['ari']\n",
    "            nmi = r['nmi']\n",
    "#             print(ari)\n",
    "#             print(nmi)\n",
    "            ARI.append(ari)\n",
    "            NMI.append(nmi)\n",
    "        i = datasets.index(dataset)\n",
    "        df1 = pd.DataFrame(ARI, index=methods)\n",
    "#         print(df1)\n",
    "        df2 = pd.DataFrame(NMI, index=methods)\n",
    "        i = datasets.index(dataset)\n",
    "#         print(df2)\n",
    "\n",
    "        y_ARI=df1[0]\n",
    "        y_NMI=df2[0]\n",
    "        x=df1.index\n",
    "        plt.figure(figsize=(16,4.5),dpi=96)\n",
    "        plt.subplot(121)\n",
    "        plot_bar(x, y_ARI, x, color, 'ARI')\n",
    "        plt.subplot(122)\n",
    "        plot_bar(x, y_NMI, x, color, 'NMI')\n",
    "#         plt.savefig('../figures/{}_barplot.svg'.format(dataset), dpi=300, format='svg', bbox_inches='tight')\n",
    "        \n",
    "            \n",
    "\n",
    "    else:\n",
    "        methods = ['Seurat', 'ICA','graph-sc','scGAE','scGNN','DCA', 'scVI', 'SIMBA', 'scBiG']\n",
    "        color = ['#D9412B', '#F67948', '#F9E07F', '#4F9D9D', '#8f8ce7','#B7B7B7','#92C5DE', '#5C90C2', '#E79796']\n",
    "        for method in methods:\n",
    "#             print('----------------method: {} ----------------- '.format(method))\n",
    "            r = np.load(os.path.join(dir0, 'results/visualization/{}/record_{}_{}.npz'.format(dataset, dataset, method)), allow_pickle=True)\n",
    "            ari = r['ari']\n",
    "            nmi = r['nmi']\n",
    "            ARI.append(ari)\n",
    "            NMI.append(nmi)\n",
    "        i = datasets.index(dataset)\n",
    "        df1 = pd.DataFrame(ARI, index=methods)\n",
    "#         print(df1)\n",
    "        df2 = pd.DataFrame(NMI, index=methods)\n",
    "        i = datasets.index(dataset)\n",
    "#         print(df2)\n",
    "\n",
    "        y_ARI=df1[0]\n",
    "        y_NMI=df2[0]\n",
    "        x=df1.index\n",
    "        plt.figure(figsize=(16,4.5),dpi=96)\n",
    "        plt.subplot(121)\n",
    "        plot_bar(x, y_ARI, x, color, 'ARI')\n",
    "        plt.subplot(122)\n",
    "        plot_bar(x, y_NMI, x, color, 'NMI')\n",
    "#         plt.savefig('../figures/{}_barplot.svg'.format(dataset), dpi=300, format='svg', bbox_inches='tight')\n",
    "        "
   ]
  }
 ],
 "metadata": {
  "kernelspec": {
   "display_name": "Python 3",
   "language": "python",
   "name": "python3"
  },
  "language_info": {
   "codemirror_mode": {
    "name": "ipython",
    "version": 3
   },
   "file_extension": ".py",
   "mimetype": "text/x-python",
   "name": "python",
   "nbconvert_exporter": "python",
   "pygments_lexer": "ipython3",
   "version": "3.8.8"
  }
 },
 "nbformat": 4,
 "nbformat_minor": 5
}
