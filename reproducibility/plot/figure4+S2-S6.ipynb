{
 "cells": [
  {
   "cell_type": "code",
   "execution_count": 1,
   "id": "f0ed4f59-034e-4c3d-b4f7-69a97035b939",
   "metadata": {},
   "outputs": [],
   "source": [
    "import numpy as np\n",
    "import scanpy as sc\n",
    "import h5py\n",
    "import os\n",
    "import matplotlib.pyplot as plt\n",
    "from scgraphne import read_data\n",
    "import warnings\n",
    "warnings.filterwarnings('ignore')"
   ]
  },
  {
   "cell_type": "code",
   "execution_count": 2,
   "id": "30d2312a-7449-40aa-9e34-597692192259",
   "metadata": {},
   "outputs": [],
   "source": [
    "import matplotlib\n",
    "matplotlib.use('agg')\n",
    "plt.rcParams['font.family'] = 'Arial'"
   ]
  },
  {
   "cell_type": "code",
   "execution_count": 3,
   "id": "c460ed73-e025-4700-8519-1f15fb5d9279",
   "metadata": {},
   "outputs": [
    {
     "name": "stdout",
     "output_type": "stream",
     "text": [
      "----------------real data: 10X_PBMC ----------------- \n",
      "----------------real data: mouse_bladder_cell ----------------- \n",
      "----------------real data: Adam ----------------- \n",
      "----------------real data: Human_pancreatic_islets ----------------- \n",
      "----------------real data: human_kidney_counts ----------------- \n",
      "----------------real data: mouse_ES_cell ----------------- \n",
      "----------------real data: Macosko_mouse_retina ----------------- \n"
     ]
    }
   ],
   "source": [
    "for dataset in ['10X_PBMC','mouse_bladder_cell','Adam','Human_pancreatic_islets',\n",
    "                'human_kidney_counts','mouse_ES_cell','Macosko_mouse_retina']:\n",
    "    print('----------------real data: {} ----------------- '.format(dataset))\n",
    "    dir0 = '../'\n",
    "    dir1 = '{}'.format(dataset)\n",
    "    dir2 = 'data_{}.h5'.format(dataset)\n",
    "\n",
    "    if dataset in ['Adam']:\n",
    "        mat, obs, var, uns = read_data(os.path.join(dir0, 'datasets/real/{}.h5'.format(dataset)), sparsify=False,\n",
    "                                       skip_exprs=False)\n",
    "        X = np.array(mat.toarray())\n",
    "        cell_name = np.array(obs[\"cell_type1\"])\n",
    "        cell_type, cell_label = np.unique(cell_name, return_inverse=True)\n",
    "        Y = cell_label\n",
    "\n",
    "    else:\n",
    "        with h5py.File(os.path.join(dir0, 'datasets/real/{}.h5'.format(dataset))) as data_mat:\n",
    "            X = np.array(data_mat['X'])\n",
    "            Y = np.array(data_mat['Y'])\n",
    "            X = np.ceil(X).astype(np.int_)\n",
    "            Y = np.array(Y).astype(np.int_).squeeze()\n",
    "\n",
    "    adata = sc.AnnData(X)\n",
    "    fig, axes = plt.subplots(nrows=2, ncols=5, figsize=(16, 6), constrained_layout=True)\n",
    "\n",
    "    if dataset in ['10X_PBMC','mouse_bladder_cell','Adam','Human_pancreatic_islets']:\n",
    "        methods = ['Seurat', 'PCA', 'ICA','ZIFA', 'VASC','scGAE','scGNN','DCA', 'scVI', 'scGraphNE']\n",
    "        for method in methods:\n",
    "            r = np.load(os.path.join(dir0, 'results/visualization/{}/record_{}_{}.npz'.format(dataset, dataset, method)), allow_pickle=True)\n",
    "\n",
    "            adata.obsm['X_umap'] = r['umap']\n",
    "            adata.obs['true'] = r[\"true\"]\n",
    "            adata.obs['louvain'] = r['louvain']\n",
    "            ari = r['ari']\n",
    "            adata.obs['louvain'] = adata.obs['louvain'].astype(str).astype('category')\n",
    "            adata.obs['true'] = adata.obs['true'].astype(str).astype('category')\n",
    "            i = methods.index(method)\n",
    "            if i < 5:\n",
    "                axes[0, i].spines['right'].set_visible(False)\n",
    "                axes[0, i].spines['top'].set_visible(False)\n",
    "                sc.pl.umap(adata, color=\"true\", ax=axes[0, i],\n",
    "                               legend_loc=None, palette='tab20')\n",
    "                axes[0, i].set_title('{}  ARI={:.4f}'.format(method, ari), fontproperties='Arial', fontsize=18)\n",
    "            else:\n",
    "                axes[1, (i - 5)].spines['right'].set_visible(False)\n",
    "                axes[1, (i - 5)].spines['top'].set_visible(False)\n",
    "                sc.pl.umap(adata, color=\"true\", ax=axes[1, (i-5)], title='{} ARI={:.4f}'.format(method, ari),\n",
    "                           legend_loc=None, palette='tab20')\n",
    "                axes[1, (i - 5)].set_title('{}  ARI={:.4f}'.format(method, ari), fontproperties='Arial', fontsize=18)\n",
    "\n",
    "    else:\n",
    "        methods = ['Seurat', 'PCA', 'ICA', 'VASC','scGAE','scGNN','DCA', 'scVI', 'scGraphNE']\n",
    "        for method in methods:\n",
    "            r = np.load(os.path.join(dir0, 'results/visualization/{}/record_{}_{}.npz'.format(dataset, dataset, method)), allow_pickle=True)\n",
    "\n",
    "            adata.obsm['X_umap'] = r['umap']\n",
    "            adata.obs['true'] = r[\"true\"]\n",
    "            adata.obs['louvain'] = r['louvain']\n",
    "            ari = r['ari']\n",
    "            adata.obs['louvain'] = adata.obs['louvain'].astype(str).astype('category')\n",
    "            adata.obs['true'] = adata.obs['true'].astype(str).astype('category')\n",
    "            i = methods.index(method)\n",
    "            if i < 5:\n",
    "                axes[0, i].spines['right'].set_visible(False)\n",
    "                axes[0, i].spines['top'].set_visible(False)\n",
    "                sc.pl.umap(adata, color=\"true\", ax=axes[0, i],legend_loc=None, palette='tab20')\n",
    "                axes[0, i].set_title('{}  ARI={:.4f}'.format(method, ari), fontproperties='Arial', fontsize=18)\n",
    "            else:\n",
    "                axes[1, (i - 5)].spines['right'].set_visible(False)\n",
    "                axes[1, (i - 5)].spines['top'].set_visible(False)\n",
    "                sc.pl.umap(adata, color=\"true\", ax=axes[1, (i-5)], title='{} ARI={:.4f}'.format(method, ari),\n",
    "                           legend_loc=None, palette='tab20')\n",
    "                axes[1, (i - 5)].set_title('{}  ARI={:.4f}'.format(method, ari), fontproperties='Arial', fontsize=18)\n",
    "                axes[1,4].xaxis.set_ticks([])\n",
    "                axes[1,4].yaxis.set_ticks([])\n",
    "                axes[1,4].axis('off')\n",
    "    plt.tight_layout(h_pad=2, w_pad=1.5)\n",
    "    plt.savefig('../figures/RD_{}.svg'.format(dataset), dpi=300, format='svg', bbox_inches='tight')"
   ]
  },
  {
   "cell_type": "code",
   "execution_count": null,
   "id": "7886e5bc-e743-44aa-8576-5609ad308ec5",
   "metadata": {},
   "outputs": [],
   "source": []
  }
 ],
 "metadata": {
  "kernelspec": {
   "display_name": "Python 3",
   "language": "python",
   "name": "python3"
  },
  "language_info": {
   "codemirror_mode": {
    "name": "ipython",
    "version": 3
   },
   "file_extension": ".py",
   "mimetype": "text/x-python",
   "name": "python",
   "nbconvert_exporter": "python",
   "pygments_lexer": "ipython3",
   "version": "3.8.8"
  }
 },
 "nbformat": 4,
 "nbformat_minor": 5
}